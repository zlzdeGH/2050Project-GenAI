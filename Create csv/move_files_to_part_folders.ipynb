{
 "cells": [
  {
   "cell_type": "code",
   "execution_count": null,
   "id": "95f4df8a",
   "metadata": {},
   "outputs": [],
   "source": [
    "import os\n",
    "import shutil\n",
    "## Split files into folders, 100 files per folder, easier for tracing the process.\n",
    "\n",
    "source_folder = 'AY 2023-2024' \n",
    "num_files_per_part = 100\n",
    "\n",
    "all_files = sorted(os.listdir(source_folder))\n",
    "\n",
    "\n",
    "for i in range(0, len(all_files), num_files_per_part):\n",
    "    part_num = (i // num_files_per_part) + 1\n",
    "    part_folder = os.path.join(source_folder, f'part {part_num}')\n",
    "    os.makedirs(part_folder, exist_ok=True)\n",
    "\n",
    "    for fname in all_files[i:i + num_files_per_part]:\n",
    "        src = os.path.join(source_folder, fname)\n",
    "        dst = os.path.join(part_folder, fname)\n",
    "        shutil.move(src, dst)  \n"
   ]
  }
 ],
 "metadata": {
  "kernelspec": {
   "display_name": "genai",
   "language": "python",
   "name": "python3"
  },
  "language_info": {
   "codemirror_mode": {
    "name": "ipython",
    "version": 3
   },
   "file_extension": ".py",
   "mimetype": "text/x-python",
   "name": "python",
   "nbconvert_exporter": "python",
   "pygments_lexer": "ipython3",
   "version": "3.11.13"
  }
 },
 "nbformat": 4,
 "nbformat_minor": 5
}
