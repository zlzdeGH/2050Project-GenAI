{
 "cells": [
  {
   "cell_type": "markdown",
   "id": "92893bcc",
   "metadata": {},
   "source": [
    "### 1. Combine 15 parts into a large file"
   ]
  },
  {
   "cell_type": "code",
   "execution_count": null,
   "id": "3add94e6",
   "metadata": {},
   "outputs": [],
   "source": [
    "import os\n",
    "import pandas as pd\n",
    "\n",
    "\n",
    "base_dir = 'Policy text'\n",
    "\n",
    "for j in range(1, 6):\n",
    "    all_dfs = []\n",
    "    for i in range(1, 16):\n",
    "        folder_name = f'part {i}'\n",
    "        csv_path = os.path.join(base_dir, folder_name, f'syllabus_summary_{j}.csv')\n",
    "        \n",
    "        if os.path.exists(csv_path):\n",
    "            df = pd.read_csv(csv_path)\n",
    "            all_dfs.append(df)\n",
    "        else:\n",
    "            print(f\"CSV not found: {csv_path}\")\n",
    "\n",
    "    combined_df = pd.concat(all_dfs, ignore_index=True)\n",
    "\n",
    "    output_path = os.path.join(base_dir, f'all_syllabus_summary_combined_{j}.csv')\n",
    "    combined_df.to_csv(output_path, index=False, encoding='utf-8-sig')\n",
    "\n",
    "    print(f\"✅ Combined CSV saved to: {output_path}\")"
   ]
  },
  {
   "cell_type": "markdown",
   "id": "1d08233b",
   "metadata": {},
   "source": [
    "### 2. Create a final file by finding the most frequent sentences in 5 attempts"
   ]
  },
  {
   "cell_type": "code",
   "execution_count": null,
   "id": "d42eb1c1",
   "metadata": {},
   "outputs": [],
   "source": [
    "base_dir = 'Policy text'\n",
    "dfs = []\n",
    "for i in range(1, 6):\n",
    "    path = os.path.join(base_dir, f'all_syllabus_summary_combined_{i}.csv')\n",
    "    df = pd.read_csv(path)\n",
    "    df['OriginalIndex'] = range(len(df))\n",
    "    df['Version'] = i  \n",
    "    dfs.append(df)\n",
    "\n",
    "\n",
    "all_df = pd.concat(dfs, ignore_index=True)\n",
    "\n",
    "\n",
    "sort_key = dfs[0][['File', 'OriginalIndex']].copy()\n",
    "sort_key = sort_key.set_index('File')['OriginalIndex'].to_dict()\n",
    "\n",
    "final_rows = []\n",
    "\n",
    "grouped = all_df.groupby('File', sort=False)\n",
    "for file_name, group in grouped:\n",
    "    mode_values = group['AI Policy'].mode()\n",
    "    if not mode_values.empty:\n",
    "        policy_mode = mode_values.iloc[0]\n",
    "        matched_row = group[group['AI Policy'] == policy_mode].iloc[0]\n",
    "    else:\n",
    "        matched_row = group.iloc[0]\n",
    "    final_rows.append(matched_row)\n",
    "\n",
    "\n",
    "final_df = pd.DataFrame(final_rows)\n",
    "\n",
    "\n",
    "final_df['OriginalIndex'] = final_df['File'].map(sort_key)\n",
    "final_df = final_df.sort_values('OriginalIndex').drop(columns=['OriginalIndex', 'Version']).reset_index(drop=True)\n",
    "\n",
    "\n",
    "final_path = os.path.join(base_dir, 'final_syllabus_summary.csv')\n",
    "final_df.to_csv(final_path, index=False, encoding='utf-8-sig')\n",
    "\n",
    "print(f\"✅ Clean final CSV saved to: {final_path} \")\n"
   ]
  },
  {
   "cell_type": "markdown",
   "id": "80afd9e0",
   "metadata": {},
   "source": [
    "### 3. Rough analysis and estimation of the amount of manual analysis"
   ]
  },
  {
   "cell_type": "code",
   "execution_count": null,
   "id": "6ef446b1",
   "metadata": {},
   "outputs": [],
   "source": [
    "print('the amount of files that LLM fails: ')\n",
    "sum(final_df['LLM Failure']==1)"
   ]
  },
  {
   "cell_type": "code",
   "execution_count": null,
   "id": "ae304a95",
   "metadata": {},
   "outputs": [],
   "source": [
    "# Missing course code in the csv, 'all_syllabus_summary_combined_5.csv' \n",
    "# Note that all_syllabus_summary 1, 3, 4, 5 share the same rule to find the code, while all_syllabus_summary 2 use the other method.\n",
    "\n",
    "print('The missing course code by the rule-based method: ')\n",
    "print(sum(combined_df['Course Code'].isna()))"
   ]
  },
  {
   "cell_type": "code",
   "execution_count": null,
   "id": "a1f9045c",
   "metadata": {},
   "outputs": [],
   "source": [
    "# Text containing fewer than 50 words that needs to be checked.\n",
    "final_df['word_count'] = final_df['AI Policy'].fillna('').str.split().str.len()\n",
    "final_df[(final_df['word_count'] > 0) & (final_df['word_count'] < 50)]"
   ]
  },
  {
   "cell_type": "code",
   "execution_count": null,
   "id": "8099e54a",
   "metadata": {},
   "outputs": [],
   "source": [
    "#  Different course code counts yielded by two methods \n",
    "all_dfs = []\n",
    "for i in range(1, 16):\n",
    "    folder_name = f'part {i}'\n",
    "    csv_path = os.path.join(base_dir, folder_name, 'syllabus_summary_2.csv')\n",
    "    \n",
    "    if os.path.exists(csv_path):\n",
    "        df = pd.read_csv(csv_path)\n",
    "        all_dfs.append(df)\n",
    "    else:\n",
    "        print(f\"CSV not found: {csv_path}\")\n",
    "\n",
    "combined_df_2 = pd.concat(all_dfs, ignore_index=True)\n",
    "\n",
    "merged = pd.merge(combined_df,combined_df_2, on='File', suffixes=('_df1', '_df2'))\n",
    "\n",
    "mismatches = merged[merged['Course Code_df1'] != merged['Course Code_df2']]\n",
    "mismatches_code = mismatches[mismatches['Course Code_df1'].notna()][['Course Code_df1', 'Course Code_df2']] \n",
    "print('The number of different codes obtained by the two methods: ', len(mismatches_code) )\n",
    "mismatches_code"
   ]
  }
 ],
 "metadata": {
  "kernelspec": {
   "display_name": "genai",
   "language": "python",
   "name": "python3"
  },
  "language_info": {
   "codemirror_mode": {
    "name": "ipython",
    "version": 3
   },
   "file_extension": ".py",
   "mimetype": "text/x-python",
   "name": "python",
   "nbconvert_exporter": "python",
   "pygments_lexer": "ipython3",
   "version": "3.11.13"
  }
 },
 "nbformat": 4,
 "nbformat_minor": 5
}
