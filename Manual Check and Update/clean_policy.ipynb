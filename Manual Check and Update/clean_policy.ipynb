{
 "cells": [
  {
   "cell_type": "code",
   "execution_count": 1,
   "id": "ac4fc4ed",
   "metadata": {},
   "outputs": [
    {
     "name": "stdout",
     "output_type": "stream",
     "text": [
      "Loading 'new_final_2024.csv'...\n",
      "UTF-8 failed, trying utf-8-sig...\n",
      "An unexpected error occurred: 'utf-8' codec can't decode bytes in position 929-930: invalid continuation byte\n"
     ]
    }
   ],
   "source": [
    "import pandas as pd\n",
    "import string \n",
    "import numpy as np\n",
    "def clean_text_by_whitelist(text):\n",
    "    \"\"\"\n",
    "    Cleans a string by keeping only characters from a predefined whitelist.\n",
    "    This effectively removes all garbled/unwanted characters.\n",
    "    \"\"\"\n",
    "    if not isinstance(text, str):\n",
    "        return text \n",
    "\n",
    "\n",
    "    whitelist = string.ascii_letters + string.digits + string.punctuation + string.whitespace\n",
    "    \n",
    "\n",
    "    allowed_chars = set(whitelist)\n",
    "\n",
    "    cleaned_text = ''.join(char for char in text if char in allowed_chars)\n",
    "    \n",
    "\n",
    "    cleaned_text = ' '.join(cleaned_text.split())\n",
    "    \n",
    "    return cleaned_text\n",
    "\n",
    "# --- 配置 ---\n",
    "original_csv_path = 'new_final_2024.csv'  \n",
    "cleaned_csv_path = 'Policy_2024.csv'    \n",
    "column_to_clean = 'AI Policy'                    \n",
    "\n",
    "\n",
    "print(f\"Loading '{original_csv_path}'...\")\n",
    "\n",
    "try:\n",
    "    \n",
    "    try:\n",
    "        df = pd.read_csv(original_csv_path, encoding='utf-8')\n",
    "    except UnicodeDecodeError:\n",
    "        print(\"UTF-8 failed, trying utf-8-sig...\")\n",
    "        df = pd.read_csv(original_csv_path, encoding='utf-8-sig')\n",
    "\n",
    "    print(\"File loaded successfully.\")\n",
    "\n",
    "\n",
    "\n",
    "    print(f\"Cleaning column '{column_to_clean}'...\")\n",
    "\n",
    "    df[column_to_clean] = df[column_to_clean].astype(str).apply(clean_text_by_whitelist)\n",
    "\n",
    "    df['AI Policy'].replace('', np.nan, inplace=True)\n",
    "    df['AI Policy'].replace('nan', np.nan, inplace=True)\n",
    "\n",
    "    df.to_csv(cleaned_csv_path, index=False, encoding='utf-8-sig')\n",
    "    \n",
    "    print(f\"Cleaned data has been saved to '{cleaned_csv_path}'\")\n",
    "    \n",
    "except FileNotFoundError:\n",
    "    print(f\"Error: The file '{original_csv_path}' was not found. Please check the path.\")\n",
    "except Exception as e:\n",
    "    print(f\"An unexpected error occurred: {e}\")"
   ]
  }
 ],
 "metadata": {
  "kernelspec": {
   "display_name": "genai",
   "language": "python",
   "name": "python3"
  },
  "language_info": {
   "codemirror_mode": {
    "name": "ipython",
    "version": 3
   },
   "file_extension": ".py",
   "mimetype": "text/x-python",
   "name": "python",
   "nbconvert_exporter": "python",
   "pygments_lexer": "ipython3",
   "version": "3.11.13"
  }
 },
 "nbformat": 4,
 "nbformat_minor": 5
}
